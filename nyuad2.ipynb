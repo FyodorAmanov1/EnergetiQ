{
 "cells": [
  {
   "cell_type": "markdown",
   "id": "9f82ae07-22f3-4b5e-aec2-9ec3eb804b4e",
   "metadata": {},
   "source": [
    "## Installs and imports"
   ]
  },
  {
   "cell_type": "code",
   "execution_count": 2,
   "id": "42f6161c-512c-495f-9678-529cf4bef674",
   "metadata": {
    "scrolled": true
   },
   "outputs": [
    {
     "name": "stdout",
     "output_type": "stream",
     "text": [
      "Collecting pyscf\n",
      "  Using cached pyscf-2.9.0-py3-none-manylinux_2_17_x86_64.manylinux2014_x86_64.whl.metadata (6.4 kB)\n",
      "Collecting qiskit-nature\n",
      "  Using cached qiskit_nature-0.7.2-py3-none-any.whl.metadata (8.0 kB)\n",
      "Collecting qiskit-algorithms\n",
      "  Using cached qiskit_algorithms-0.3.1-py3-none-any.whl.metadata (4.2 kB)\n",
      "Requirement already satisfied: numpy!=1.16,!=1.17,>=1.13 in /opt/conda/lib/python3.11/site-packages (from pyscf) (2.2.5)\n",
      "Collecting scipy>=1.6.0 (from pyscf)\n",
      "  Using cached scipy-1.15.2-cp311-cp311-manylinux_2_17_x86_64.manylinux2014_x86_64.whl.metadata (61 kB)\n",
      "Collecting h5py>=2.7 (from pyscf)\n",
      "  Using cached h5py-3.13.0-cp311-cp311-manylinux_2_17_x86_64.manylinux2014_x86_64.whl.metadata (2.5 kB)\n",
      "Requirement already satisfied: setuptools in /opt/conda/lib/python3.11/site-packages (from pyscf) (69.5.1)\n",
      "Collecting qiskit>=0.44 (from qiskit-nature)\n",
      "  Using cached qiskit-2.0.0-cp39-abi3-manylinux_2_17_x86_64.manylinux2014_x86_64.whl.metadata (12 kB)\n",
      "Requirement already satisfied: psutil>=5 in /opt/conda/lib/python3.11/site-packages (from qiskit-nature) (5.9.8)\n",
      "Requirement already satisfied: typing-extensions in /opt/conda/lib/python3.11/site-packages (from qiskit-nature) (4.13.2)\n",
      "Collecting rustworkx>=0.12 (from qiskit-nature)\n",
      "  Using cached rustworkx-0.16.0-cp39-abi3-manylinux_2_17_x86_64.manylinux2014_x86_64.whl.metadata (10 kB)\n",
      "Collecting sympy>=1.3 (from qiskit>=0.44->qiskit-nature)\n",
      "  Using cached sympy-1.13.3-py3-none-any.whl.metadata (12 kB)\n",
      "Collecting dill>=0.3 (from qiskit>=0.44->qiskit-nature)\n",
      "  Using cached dill-0.4.0-py3-none-any.whl.metadata (10 kB)\n",
      "Requirement already satisfied: python-dateutil>=2.8.0 in /opt/conda/lib/python3.11/site-packages (from qiskit>=0.44->qiskit-nature) (2.9.0)\n",
      "Collecting stevedore>=3.0.0 (from qiskit>=0.44->qiskit-nature)\n",
      "  Using cached stevedore-5.4.1-py3-none-any.whl.metadata (2.3 kB)\n",
      "Collecting symengine<0.14,>=0.11 (from qiskit>=0.44->qiskit-nature)\n",
      "  Using cached symengine-0.13.0-cp311-cp311-manylinux_2_17_x86_64.manylinux2014_x86_64.whl.metadata (1.2 kB)\n",
      "Requirement already satisfied: six>=1.5 in /opt/conda/lib/python3.11/site-packages (from python-dateutil>=2.8.0->qiskit>=0.44->qiskit-nature) (1.16.0)\n",
      "Collecting pbr>=2.0.0 (from stevedore>=3.0.0->qiskit>=0.44->qiskit-nature)\n",
      "  Using cached pbr-6.1.1-py2.py3-none-any.whl.metadata (3.4 kB)\n",
      "Collecting mpmath<1.4,>=1.1.0 (from sympy>=1.3->qiskit>=0.44->qiskit-nature)\n",
      "  Using cached mpmath-1.3.0-py3-none-any.whl.metadata (8.6 kB)\n",
      "Using cached pyscf-2.9.0-py3-none-manylinux_2_17_x86_64.manylinux2014_x86_64.whl (50.9 MB)\n",
      "Using cached qiskit_nature-0.7.2-py3-none-any.whl (2.2 MB)\n",
      "Using cached qiskit_algorithms-0.3.1-py3-none-any.whl (310 kB)\n",
      "Using cached h5py-3.13.0-cp311-cp311-manylinux_2_17_x86_64.manylinux2014_x86_64.whl (4.5 MB)\n",
      "Using cached qiskit-2.0.0-cp39-abi3-manylinux_2_17_x86_64.manylinux2014_x86_64.whl (6.5 MB)\n",
      "Using cached rustworkx-0.16.0-cp39-abi3-manylinux_2_17_x86_64.manylinux2014_x86_64.whl (2.1 MB)\n",
      "Using cached scipy-1.15.2-cp311-cp311-manylinux_2_17_x86_64.manylinux2014_x86_64.whl (37.6 MB)\n",
      "Using cached dill-0.4.0-py3-none-any.whl (119 kB)\n",
      "Using cached stevedore-5.4.1-py3-none-any.whl (49 kB)\n",
      "Using cached symengine-0.13.0-cp311-cp311-manylinux_2_17_x86_64.manylinux2014_x86_64.whl (49.7 MB)\n",
      "Using cached sympy-1.13.3-py3-none-any.whl (6.2 MB)\n",
      "Using cached mpmath-1.3.0-py3-none-any.whl (536 kB)\n",
      "Using cached pbr-6.1.1-py2.py3-none-any.whl (108 kB)\n",
      "Installing collected packages: mpmath, sympy, symengine, scipy, rustworkx, pbr, h5py, dill, stevedore, pyscf, qiskit, qiskit-algorithms, qiskit-nature\n",
      "Successfully installed dill-0.4.0 h5py-3.13.0 mpmath-1.3.0 pbr-6.1.1 pyscf-2.9.0 qiskit-2.0.0 qiskit-algorithms-0.3.1 qiskit-nature-0.7.2 rustworkx-0.16.0 scipy-1.15.2 stevedore-5.4.1 symengine-0.13.0 sympy-1.13.3\n"
     ]
    }
   ],
   "source": [
    "!pip install pyscf qiskit-nature qiskit-algorithms"
   ]
  },
  {
   "cell_type": "code",
   "execution_count": 3,
   "id": "45c3109b-05ce-4f16-a75d-f3f34edf9cf8",
   "metadata": {},
   "outputs": [],
   "source": [
    "from pyscf import gto, scf, ao2mo\n",
    "import numpy as np\n",
    "from qiskit_nature.second_q.hamiltonians import ElectronicEnergy\n",
    "import numpy as np\n",
    "import matplotlib.pyplot as plt\n",
    "import matplotlib.animation as animation\n",
    "from mpl_toolkits.mplot3d import Axes3D\n",
    "from qiskit_aer import Aer\n",
    "from qiskit_algorithms import VQE\n",
    "from qiskit.circuit.library import TwoLocal\n",
    "from qiskit.quantum_info import SparsePauliOp\n",
    "from qiskit_nature.second_q.mappers import JordanWignerMapper\n",
    "from qiskit.primitives import Estimator\n",
    "from qiskit_nature.second_q.operators import FermionicOp\n",
    "from qiskit_algorithms.optimizers import SPSA\n",
    "from IPython.display import Image"
   ]
  },
  {
   "cell_type": "code",
   "execution_count": 11,
   "id": "325405f9-e3b9-48df-8e19-3f2544caf227",
   "metadata": {},
   "outputs": [],
   "source": [
    "import warnings\n",
    "warnings.filterwarnings('ignore', category=DeprecationWarning)"
   ]
  },
  {
   "cell_type": "markdown",
   "id": "b0f9f390-4bb0-408f-a473-9c968c4335d7",
   "metadata": {},
   "source": [
    "## Finding ground state of a system"
   ]
  },
  {
   "cell_type": "code",
   "execution_count": 5,
   "id": "6e8d6ac8-5436-4958-ad12-9e9e8d4e1377",
   "metadata": {},
   "outputs": [],
   "source": [
    "def expand_to_spin_orbital_basis(h1_ao, eri_ao):\n",
    "    n = h1_ao.shape[0]\n",
    "    h1_spin = np.kron(h1_ao, np.eye(2))\n",
    "    eri_spin = np.zeros((2*n, 2*n, 2*n, 2*n))\n",
    "    for p in range(2*n):\n",
    "        for q in range(2*n):\n",
    "            for r in range(2*n):\n",
    "                for s in range(2*n):\n",
    "                    eri_spin[p, q, r, s] = eri_ao[p//2, q//2, r//2, s//2] * (\n",
    "                        (p % 2 == r % 2) and (q % 2 == s % 2)\n",
    "                    )\n",
    "    return h1_spin, eri_spin"
   ]
  },
  {
   "cell_type": "code",
   "execution_count": 6,
   "id": "ef0e8191-0f63-4125-b2dc-e38afcf0de80",
   "metadata": {},
   "outputs": [],
   "source": [
    "def get_fermionic_op(atom_string: str, spin: int, charge: int, basis: str = \"sto-3g\"):\n",
    "    mol = gto.M(\n",
    "        atom=atom_string,\n",
    "        basis=basis,\n",
    "        spin=spin,\n",
    "        charge=charge,\n",
    "        verbose=0\n",
    "    )\n",
    "\n",
    "    # Restricted hartree-fock\n",
    "    mf = scf.RHF(mol)\n",
    "    mf.kernel()\n",
    "\n",
    "    # One-electron integrals (in AO basis)\n",
    "    h1_ao = mf.get_hcore()\n",
    "\n",
    "    # Two-electron integrals (in AO basis, 4-index)\n",
    "    eri_ao = mol.intor('int2e', aosym='s1')  # (μν|λσ)\n",
    "\n",
    "    # Convert to format for Qiskit\n",
    "    h1_spin, eri_spin = expand_to_spin_orbital_basis(h1_ao, eri_ao)\n",
    "\n",
    "    # Construct electronic Hamiltonian from raw integrals\n",
    "    electronic_energy = ElectronicEnergy.from_raw_integrals(h1_spin, eri_spin, auto_index_order=False)\n",
    "    \n",
    "    # Convert to FermionicOp\n",
    "    atom_hamiltonian = electronic_energy.second_q_op()\n",
    "\n",
    "    return atom_hamiltonian"
   ]
  },
  {
   "cell_type": "code",
   "execution_count": 9,
   "id": "d4026e17-b671-416b-b69e-c170fa44de8b",
   "metadata": {},
   "outputs": [],
   "source": [
    "def simulate_fermionic_op(atom_hamiltonian: FermionicOp):\n",
    "    # Convert to qubit Hamiltonian using Jordan-Wigner transformation\n",
    "    mapper = JordanWignerMapper()\n",
    "    qubit_op = mapper.map(atom_hamiltonian)\n",
    "    \n",
    "    # Define the quantum ansatz\n",
    "    ansatz = TwoLocal(rotation_blocks='ry', entanglement_blocks='cz', reps=2)\n",
    "    \n",
    "    backend = Aer.get_backend('statevector_simulator')\n",
    "    estimator = Estimator()\n",
    "    optimizer = SPSA()  # Create an instance of the optimizer\n",
    "    vqe = VQE(estimator, ansatz, optimizer)  # Pass the optimizer to VQE\n",
    "    result = vqe.compute_minimum_eigenvalue(qubit_op)\n",
    "    \n",
    "    return result.eigenvalue.real"
   ]
  },
  {
   "cell_type": "code",
   "execution_count": 12,
   "id": "da4f5c15-a358-4422-9360-3c523b19c559",
   "metadata": {},
   "outputs": [
    {
     "name": "stdout",
     "output_type": "stream",
     "text": [
      "Hartree groundstate energy for Hydrogen: -7.7256176739513425\n"
     ]
    }
   ],
   "source": [
    "StringLi2S = \"\"\"\n",
    "    Li 0.25 0.25 0.25\n",
    "    Li 0.75 0.75 0.75\n",
    "    S 0 0 0\n",
    "\"\"\"\n",
    "\n",
    "StringHe = \"He 0 0 0\"\n",
    "\n",
    "hydrogen_op = get_fermionic_op(\n",
    "    atom_string = StringHe,\n",
    "    spin        = 0,\n",
    "    charge      = 0\n",
    ")\n",
    "\n",
    "hydrogen_ground_state = simulate_fermionic_op(hydrogen_op)\n",
    "\n",
    "print(\"Hartree groundstate energy for Hydrogen:\", hydrogen_ground_state)"
   ]
  },
  {
   "cell_type": "markdown",
   "id": "94399e33-5542-49ae-a4fb-d338e11e66f9",
   "metadata": {},
   "source": [
    "## Finding higher energy eigenstates"
   ]
  },
  {
   "cell_type": "code",
   "execution_count": null,
   "id": "1fbbabec-7629-414f-a45a-9b79ab09066b",
   "metadata": {},
   "outputs": [],
   "source": []
  },
  {
   "cell_type": "code",
   "execution_count": null,
   "id": "db1199ad-03f3-4251-89af-e3fae232b53e",
   "metadata": {},
   "outputs": [],
   "source": []
  }
 ],
 "metadata": {
  "kernelspec": {
   "display_name": "Python 3 [qBraid]",
   "language": "python",
   "name": "python3_qbraid_sdk_9j9sjy"
  },
  "language_info": {
   "codemirror_mode": {
    "name": "ipython",
    "version": 3
   },
   "file_extension": ".py",
   "mimetype": "text/x-python",
   "name": "python",
   "nbconvert_exporter": "python",
   "pygments_lexer": "ipython3",
   "version": "3.11.9"
  }
 },
 "nbformat": 4,
 "nbformat_minor": 5
}
