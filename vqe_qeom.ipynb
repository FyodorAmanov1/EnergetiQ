{
 "cells": [
  {
   "cell_type": "markdown",
   "id": "9f82ae07-22f3-4b5e-aec2-9ec3eb804b4e",
   "metadata": {},
   "source": [
    "## Installs and imports"
   ]
  },
  {
   "cell_type": "code",
   "execution_count": 94,
   "id": "42f6161c-512c-495f-9678-529cf4bef674",
   "metadata": {
    "scrolled": true
   },
   "outputs": [
    {
     "name": "stdout",
     "output_type": "stream",
     "text": [
      "Requirement already satisfied: pyscf in /opt/conda/lib/python3.11/site-packages (2.9.0)\n",
      "Requirement already satisfied: qiskit-nature in /opt/conda/lib/python3.11/site-packages (0.7.2)\n",
      "Requirement already satisfied: qiskit-algorithms in /opt/conda/lib/python3.11/site-packages (0.3.1)\n",
      "Collecting qiskit-nature-pyscf\n",
      "  Using cached qiskit_nature_pyscf-0.4.0-py3-none-any.whl.metadata (4.4 kB)\n",
      "Requirement already satisfied: numpy!=1.16,!=1.17,>=1.13 in /opt/conda/lib/python3.11/site-packages (from pyscf) (2.2.5)\n",
      "Requirement already satisfied: scipy>=1.6.0 in /opt/conda/lib/python3.11/site-packages (from pyscf) (1.15.2)\n",
      "Requirement already satisfied: h5py>=2.7 in /opt/conda/lib/python3.11/site-packages (from pyscf) (3.13.0)\n",
      "Requirement already satisfied: setuptools in /opt/conda/lib/python3.11/site-packages (from pyscf) (69.5.1)\n",
      "Requirement already satisfied: qiskit>=0.44 in /opt/conda/lib/python3.11/site-packages (from qiskit-nature) (2.0.0)\n",
      "Requirement already satisfied: psutil>=5 in /opt/conda/lib/python3.11/site-packages (from qiskit-nature) (5.9.8)\n",
      "Requirement already satisfied: typing-extensions in /opt/conda/lib/python3.11/site-packages (from qiskit-nature) (4.13.2)\n",
      "Requirement already satisfied: rustworkx>=0.12 in /opt/conda/lib/python3.11/site-packages (from qiskit-nature) (0.16.0)\n",
      "Requirement already satisfied: sympy>=1.3 in /opt/conda/lib/python3.11/site-packages (from qiskit>=0.44->qiskit-nature) (1.13.3)\n",
      "Requirement already satisfied: dill>=0.3 in /opt/conda/lib/python3.11/site-packages (from qiskit>=0.44->qiskit-nature) (0.4.0)\n",
      "Requirement already satisfied: python-dateutil>=2.8.0 in /opt/conda/lib/python3.11/site-packages (from qiskit>=0.44->qiskit-nature) (2.9.0)\n",
      "Requirement already satisfied: stevedore>=3.0.0 in /opt/conda/lib/python3.11/site-packages (from qiskit>=0.44->qiskit-nature) (5.4.1)\n",
      "Requirement already satisfied: symengine<0.14,>=0.11 in /opt/conda/lib/python3.11/site-packages (from qiskit>=0.44->qiskit-nature) (0.13.0)\n",
      "Requirement already satisfied: six>=1.5 in /opt/conda/lib/python3.11/site-packages (from python-dateutil>=2.8.0->qiskit>=0.44->qiskit-nature) (1.16.0)\n",
      "Requirement already satisfied: pbr>=2.0.0 in /opt/conda/lib/python3.11/site-packages (from stevedore>=3.0.0->qiskit>=0.44->qiskit-nature) (6.1.1)\n",
      "Requirement already satisfied: mpmath<1.4,>=1.1.0 in /opt/conda/lib/python3.11/site-packages (from sympy>=1.3->qiskit>=0.44->qiskit-nature) (1.3.0)\n",
      "Using cached qiskit_nature_pyscf-0.4.0-py3-none-any.whl (15 kB)\n",
      "Installing collected packages: qiskit-nature-pyscf\n",
      "Successfully installed qiskit-nature-pyscf-0.4.0\n"
     ]
    }
   ],
   "source": [
    "!pip install pyscf qiskit-nature qiskit-algorithms qiskit-nature-pyscf"
   ]
  },
  {
   "cell_type": "code",
   "execution_count": 98,
   "id": "45c3109b-05ce-4f16-a75d-f3f34edf9cf8",
   "metadata": {},
   "outputs": [],
   "source": [
    "from pyscf import gto, scf, ao2mo\n",
    "import numpy as np\n",
    "from qiskit_nature.units import DistanceUnit\n",
    "from qiskit_nature.second_q.hamiltonians import ElectronicEnergy\n",
    "from qiskit_nature.second_q.drivers import PySCFDriver\n",
    "import numpy as np\n",
    "import matplotlib.pyplot as plt\n",
    "import matplotlib.animation as animation\n",
    "from mpl_toolkits.mplot3d import Axes3D\n",
    "from qiskit_aer import Aer\n",
    "from qiskit_algorithms import VQE\n",
    "from qiskit.circuit.library import TwoLocal\n",
    "from qiskit.quantum_info import SparsePauliOp\n",
    "from qiskit_nature.second_q.mappers import JordanWignerMapper\n",
    "from qiskit.primitives import Estimator\n",
    "from qiskit_nature.second_q.operators import FermionicOp\n",
    "from qiskit_algorithms.optimizers import SPSA\n",
    "from qiskit_nature.second_q.algorithms import QEOM, GroundStateSolver\n",
    "from IPython.display import Image\n",
    "from qiskit_algorithms import VQE\n",
    "from qiskit_nature.second_q.algorithms import GroundStateEigensolver\n",
    "from qiskit_nature.second_q.problems import BaseProblem"
   ]
  },
  {
   "cell_type": "code",
   "execution_count": 27,
   "id": "325405f9-e3b9-48df-8e19-3f2544caf227",
   "metadata": {},
   "outputs": [],
   "source": [
    "import warnings\n",
    "warnings.filterwarnings('ignore', category=DeprecationWarning)"
   ]
  },
  {
   "cell_type": "markdown",
   "id": "b0f9f390-4bb0-408f-a473-9c968c4335d7",
   "metadata": {},
   "source": [
    "## Finding ground state of a system"
   ]
  },
  {
   "cell_type": "code",
   "execution_count": 5,
   "id": "6e8d6ac8-5436-4958-ad12-9e9e8d4e1377",
   "metadata": {},
   "outputs": [],
   "source": [
    "def expand_to_spin_orbital_basis(h1_ao, eri_ao):\n",
    "    n = h1_ao.shape[0]\n",
    "    h1_spin = np.kron(h1_ao, np.eye(2))\n",
    "    eri_spin = np.zeros((2*n, 2*n, 2*n, 2*n))\n",
    "    for p in range(2*n):\n",
    "        for q in range(2*n):\n",
    "            for r in range(2*n):\n",
    "                for s in range(2*n):\n",
    "                    eri_spin[p, q, r, s] = eri_ao[p//2, q//2, r//2, s//2] * (\n",
    "                        (p % 2 == r % 2) and (q % 2 == s % 2)\n",
    "                    )\n",
    "    return h1_spin, eri_spin"
   ]
  },
  {
   "cell_type": "code",
   "execution_count": 140,
   "id": "ef0e8191-0f63-4125-b2dc-e38afcf0de80",
   "metadata": {},
   "outputs": [],
   "source": [
    "def get_fermionic_op(atom_string: str, spin: int, charge: int, basis: str = \"sto-3g\"):\n",
    "    driver = PySCFDriver(\n",
    "        atom=atom_string,\n",
    "        basis=basis,\n",
    "        charge=charge,\n",
    "        spin=spin,\n",
    "        unit=DistanceUnit.ANGSTROM,\n",
    "    )\n",
    "    problem = driver.run()\n",
    "\n",
    "    # Convert to FermionicOp\n",
    "    atom_hamiltonian = problem.second_q_ops()\n",
    "\n",
    "    return atom_hamiltonian[0]"
   ]
  },
  {
   "cell_type": "code",
   "execution_count": 135,
   "id": "d4026e17-b671-416b-b69e-c170fa44de8b",
   "metadata": {},
   "outputs": [],
   "source": [
    "def simulate_fermionic_op(atom_hamiltonian: FermionicOp, ansatz_reps: int = 2):\n",
    "    # Convert to qubit Hamiltonian using Jordan-Wigner transformation\n",
    "    mapper   = JordanWignerMapper()\n",
    "    qubit_op = mapper.map(atom_hamiltonian)\n",
    "    \n",
    "    # Define the quantum ansatz\n",
    "    ansatz = TwoLocal(rotation_blocks='ry', entanglement_blocks='cz', reps=ansatz_reps)\n",
    "    \n",
    "    backend   = Aer.get_backend('statevector_simulator')\n",
    "    estimator = Estimator()\n",
    "    optimizer = SPSA()  # Create an instance of the optimizer\n",
    "    vqe       = VQE(estimator, ansatz, optimizer)  # Pass the optimizer to VQE\n",
    "    result    = vqe.compute_minimum_eigenvalue(qubit_op)\n",
    "\n",
    "    optimized_ansatz = ansatz.assign_parameters(result.optimal_point)\n",
    "    \n",
    "    return result.eigenvalue.real, optimized_ansatz"
   ]
  },
  {
   "cell_type": "code",
   "execution_count": 163,
   "id": "da4f5c15-a358-4422-9360-3c523b19c559",
   "metadata": {},
   "outputs": [
    {
     "name": "stdout",
     "output_type": "stream",
     "text": [
      "Built operator, running VQE...\n",
      "Hartree groundstate energy:  -1.7948348154523173\n"
     ]
    }
   ],
   "source": [
    "StringLi2S = \"Li 0.25 0.25 0.25; Li 0.75 0.75 0.75; S 0 0 0\"\n",
    "\n",
    "StringH2 = \"H 0 0 0; H 0 0 0.735\"\n",
    "\n",
    "mol_op = get_fermionic_op(\n",
    "    atom_string = StringH2,\n",
    "    spin        = 0,\n",
    "    charge      = 0\n",
    ")\n",
    "\n",
    "print(\"Built operator, running VQE...\")\n",
    "\n",
    "mol_ground_state, mol_optimal_ansatz = simulate_fermionic_op(mol_op, 4)\n",
    "\n",
    "print(\"Hartree groundstate energy: \", mol_ground_state)"
   ]
  },
  {
   "cell_type": "code",
   "execution_count": 145,
   "id": "e96bb6a6-59b8-4202-9a31-5ef5f32f5707",
   "metadata": {},
   "outputs": [
    {
     "data": {
      "text/html": [
       "<pre style=\"word-wrap: normal;white-space: pre;background: #fff0;line-height: 1.1;font-family: &quot;Courier New&quot;,Courier,monospace\">      ┌────────────┐            ┌────────────┐                                »\n",
       "q_0: ─┤ Ry(-3.257) ├─■──■─────■─┤ Ry(3.2382) ├─────────────────────■────────■─»\n",
       "     ┌┴────────────┤ │  │     │ └────────────┘┌────────────┐       │        │ »\n",
       "q_1: ┤ Ry(-3.1686) ├─■──┼──■──┼───────■───────┤ Ry(6.2124) ├───────■────────┼─»\n",
       "     ├─────────────┤    │  │  │       │       └────────────┘┌─────────────┐ │ »\n",
       "q_2: ┤ Ry(-3.5712) ├────■──■──┼───────┼─────────────■───────┤ Ry(-6.5712) ├─■─»\n",
       "     └┬────────────┤          │       │             │       ├─────────────┤   »\n",
       "q_3: ─┤ Ry(1.3656) ├──────────■───────■─────────────■───────┤ Ry(-9.1865) ├───»\n",
       "      └────────────┘                                        └─────────────┘   »\n",
       "«           ┌─────────────┐                                     ┌─────────────┐»\n",
       "«q_0: ────■─┤ Ry(-3.0352) ├────────────────────■────────■─────■─┤ Ry(0.20365) ├»\n",
       "«         │ └─────────────┘┌────────────┐      │        │     │ └─────────────┘»\n",
       "«q_1: ─■──┼────────■───────┤ Ry(3.3136) ├──────■────────┼──■──┼────────■───────»\n",
       "«      │  │        │       └────────────┘┌────────────┐ │  │  │        │       »\n",
       "«q_2: ─■──┼────────┼─────────────■───────┤ Ry(3.8959) ├─■──■──┼────────┼───────»\n",
       "«         │        │             │       ├────────────┤       │        │       »\n",
       "«q_3: ────■────────■─────────────■───────┤ Ry(1.5617) ├───────■────────■───────»\n",
       "«                                        └────────────┘                        »\n",
       "«                                  \n",
       "«q_0: ─────────────────────────────\n",
       "«     ┌─────────────┐              \n",
       "«q_1: ┤ Ry(-6.4228) ├──────────────\n",
       "«     └─────────────┘┌────────────┐\n",
       "«q_2: ───────■───────┤ Ry(2.8745) ├\n",
       "«            │       ├────────────┤\n",
       "«q_3: ───────■───────┤ Ry(3.5823) ├\n",
       "«                    └────────────┘</pre>"
      ],
      "text/plain": [
       "      ┌────────────┐            ┌────────────┐                                »\n",
       "q_0: ─┤ Ry(-3.257) ├─■──■─────■─┤ Ry(3.2382) ├─────────────────────■────────■─»\n",
       "     ┌┴────────────┤ │  │     │ └────────────┘┌────────────┐       │        │ »\n",
       "q_1: ┤ Ry(-3.1686) ├─■──┼──■──┼───────■───────┤ Ry(6.2124) ├───────■────────┼─»\n",
       "     ├─────────────┤    │  │  │       │       └────────────┘┌─────────────┐ │ »\n",
       "q_2: ┤ Ry(-3.5712) ├────■──■──┼───────┼─────────────■───────┤ Ry(-6.5712) ├─■─»\n",
       "     └┬────────────┤          │       │             │       ├─────────────┤   »\n",
       "q_3: ─┤ Ry(1.3656) ├──────────■───────■─────────────■───────┤ Ry(-9.1865) ├───»\n",
       "      └────────────┘                                        └─────────────┘   »\n",
       "«           ┌─────────────┐                                     ┌─────────────┐»\n",
       "«q_0: ────■─┤ Ry(-3.0352) ├────────────────────■────────■─────■─┤ Ry(0.20365) ├»\n",
       "«         │ └─────────────┘┌────────────┐      │        │     │ └─────────────┘»\n",
       "«q_1: ─■──┼────────■───────┤ Ry(3.3136) ├──────■────────┼──■──┼────────■───────»\n",
       "«      │  │        │       └────────────┘┌────────────┐ │  │  │        │       »\n",
       "«q_2: ─■──┼────────┼─────────────■───────┤ Ry(3.8959) ├─■──■──┼────────┼───────»\n",
       "«         │        │             │       ├────────────┤       │        │       »\n",
       "«q_3: ────■────────■─────────────■───────┤ Ry(1.5617) ├───────■────────■───────»\n",
       "«                                        └────────────┘                        »\n",
       "«                                  \n",
       "«q_0: ─────────────────────────────\n",
       "«     ┌─────────────┐              \n",
       "«q_1: ┤ Ry(-6.4228) ├──────────────\n",
       "«     └─────────────┘┌────────────┐\n",
       "«q_2: ───────■───────┤ Ry(2.8745) ├\n",
       "«            │       ├────────────┤\n",
       "«q_3: ───────■───────┤ Ry(3.5823) ├\n",
       "«                    └────────────┘"
      ]
     },
     "execution_count": 145,
     "metadata": {},
     "output_type": "execute_result"
    }
   ],
   "source": [
    "mol_optimal_ansatz.decompose().draw()"
   ]
  },
  {
   "cell_type": "markdown",
   "id": "94399e33-5542-49ae-a4fb-d338e11e66f9",
   "metadata": {},
   "source": [
    "## Finding higher energy eigenstates\n",
    "\n",
    "Relevant reference: https://arxiv.org/abs/1910.12890"
   ]
  },
  {
   "cell_type": "code",
   "execution_count": 148,
   "id": "1fbbabec-7629-414f-a45a-9b79ab09066b",
   "metadata": {},
   "outputs": [],
   "source": [
    "from qiskit_nature.second_q.problems import ElectronicStructureProblem\n",
    "\n",
    "def get_higher_energy_states(atom_string: str, spin: int, charge: int, basis: str = \"sto-3g\", ansatz_reps: int = 2):\n",
    "    backend   = Aer.get_backend('statevector_simulator')\n",
    "    estimator = Estimator()\n",
    "    mapper    = JordanWignerMapper()\n",
    "\n",
    "    driver = PySCFDriver(\n",
    "        atom=atom_string,\n",
    "        basis=basis,\n",
    "        charge=charge,\n",
    "        spin=spin,\n",
    "        unit=DistanceUnit.ANGSTROM,\n",
    "    )\n",
    "    problem = driver.run()\n",
    "\n",
    "    optimizer  = SPSA()\n",
    "    ansatz     = TwoLocal(rotation_blocks='ry', entanglement_blocks='cz', reps=ansatz_reps)\n",
    "    vqe_solver = VQE(estimator, ansatz, optimizer)\n",
    "    \n",
    "    ground_state_solver = GroundStateEigensolver(mapper, vqe_solver)\n",
    "    \n",
    "    qeom_solver = QEOM(\n",
    "        ground_state_solver=ground_state_solver,\n",
    "        estimator=estimator,\n",
    "        excitations=\"sd\"\n",
    "    )\n",
    "    qeom_result = qeom_solver.solve(problem)\n",
    "\n",
    "    return qeom_result.groundenergy, qeom_result.total_energies"
   ]
  },
  {
   "cell_type": "code",
   "execution_count": null,
   "id": "db1199ad-03f3-4251-89af-e3fae232b53e",
   "metadata": {},
   "outputs": [
    {
     "name": "stdout",
     "output_type": "stream",
     "text": [
      "H2:  -1.7903306845245301 [-1.07036169 -0.48805147 -0.12304971  0.54396717]\n"
     ]
    }
   ],
   "source": [
    "h2_ground_energy, h2_higher_energies = get_higher_energy_states(\n",
    "    atom_string = StringH2,\n",
    "    spin        = 0,\n",
    "    charge      = 0, \n",
    "    ansatz_reps = 7\n",
    ")\n",
    "print(\"H2: \", h2_ground_energy, h2_higher_energies)\n",
    "\n",
    "li2s_ground_energy, li2s_higher_energies = get_higher_energy_states(\n",
    "    atom_string = StringLi2S,\n",
    "    spin        = 0,\n",
    "    charge      = 0, \n",
    "    ansatz_reps = 7\n",
    ")\n",
    "print(\"Li2S: \", li2s_ground_energy, li2s_higher_energies)"
   ]
  },
  {
   "cell_type": "code",
   "execution_count": 206,
   "id": "899d6fd6-645a-4fa3-94e9-b23e36e2a5fd",
   "metadata": {},
   "outputs": [
    {
     "data": {
      "image/png": "[encoded data removed]",
      "text/plain": [
       "<Figure size 640x480 with 1 Axes>"
      ]
     },
     "metadata": {},
     "output_type": "display_data"
    }
   ],
   "source": [
    "energies = [ground_energy] + list(higher_energies)\n",
    "plt.plot(energies)\n",
    "plt.ylabel(\"Energy (Hartree)\")\n",
    "plt.xlabel(\"Eigenstate\")\n",
    "plt.show()"
   ]
  },
  {
   "cell_type": "markdown",
   "id": "019cf1b0-4c99-4c5b-8cff-67267fbe2f0b",
   "metadata": {},
   "source": [
    "## Compute variables of interest"
   ]
  },
  {
   "cell_type": "code",
   "execution_count": 237,
   "id": "6cef3e5d-003b-4614-8e69-0a321615ea38",
   "metadata": {},
   "outputs": [
    {
     "name": "stdout",
     "output_type": "stream",
     "text": [
      "Approximate Free Energy at 300K: -40.400092\n"
     ]
    }
   ],
   "source": [
    "import numpy as np\n",
    "\n",
    "temperature = 300 # in Kelvin\n",
    "beta        = 1 / (0.08617333262 * temperature) # meV\n",
    "\n",
    "ground_energy  = energies[0]\n",
    "delta_energies = [E - ground_energy for E in energies]\n",
    "\n",
    "# Partition function\n",
    "# Z = sum(np.exp(-beta * e * 27211.4) for e in delta_energies) # Hartree to meV\n",
    "Z = sum(np.exp(-beta * e) for e in delta_energies) # not converting to make sure we have something to look at\n",
    "\n",
    "# Free energy\n",
    "F = -1/beta * np.log(Z)\n",
    "\n",
    "print(f\"Approximate Free Energy at 300K: {F:.6f}\")"
   ]
  },
  {
   "cell_type": "code",
   "execution_count": 254,
   "id": "e6766aa1-1b87-4ab0-9634-516c4dbcae4f",
   "metadata": {},
   "outputs": [],
   "source": [
    "def partition_function(energies, temperature):\n",
    "    # Z = sum(np.exp(-beta * e * 27211.4) for e in delta_energies) # Hartree to meV\n",
    "    Z = sum(np.exp(-beta * e) for e in delta_energies) # not converting to make sure we have something to look at\n",
    "    return Z"
   ]
  },
  {
   "cell_type": "code",
   "execution_count": 255,
   "id": "7cf56a47-9806-4286-825b-39a1b77cd4a6",
   "metadata": {},
   "outputs": [],
   "source": [
    "def free_energy(Z, temperature):\n",
    "    beta = 1 / (0.08617333262 * temperature) # meV\n",
    "    F = -1/beta * np.log(Z)\n",
    "    return F"
   ]
  },
  {
   "cell_type": "code",
   "execution_count": 264,
   "id": "67e1f314-b775-47b2-8c83-4abfd1745601",
   "metadata": {},
   "outputs": [],
   "source": [
    "def heat_capacity(energies, partition_function, temperature):\n",
    "    energies = np.array(energies)\n",
    "    \n",
    "    beta              = 1 / (0.08617333262 * temperature) # meV\n",
    "    boltzmann_factors = np.exp(-beta * energies)\n",
    "    probabilities     = boltzmann_factors / partition_function\n",
    "\n",
    "    U  = np.sum(probabilities * energies)\n",
    "    U2 = np.sum(probabilities * energies**2)\n",
    "\n",
    "    Cv = beta**2 * (U2 - U**2)\n",
    "\n",
    "    return Cv"
   ]
  },
  {
   "cell_type": "code",
   "execution_count": 266,
   "id": "27a55888-edee-4bf1-9d3d-5e682d7d725b",
   "metadata": {},
   "outputs": [],
   "source": [
    "temperatures    = np.linspace(10, 500, num=500)\n",
    "free_energies   = []\n",
    "heat_capacities = []\n",
    "\n",
    "for temp in temperatures:\n",
    "    Z = partition_function(delta_energies, temp)\n",
    "    free_energies.append(free_energy(Z, temp))\n",
    "    heat_capacities.append(heat_capacity(delta_energies, Z, temp)) "
   ]
  },
  {
   "cell_type": "code",
   "execution_count": 267,
   "id": "9fb33461-830e-46bd-b207-29b299e38e14",
   "metadata": {},
   "outputs": [
    {
     "data": {
      "image/png": "[encoded data removed]",
      "text/plain": [
       "<Figure size 640x480 with 1 Axes>"
      ]
     },
     "metadata": {},
     "output_type": "display_data"
    }
   ],
   "source": [
    "plt.plot(temperatures, free_energies)\n",
    "plt.xlabel(\"Temperature (K)\")\n",
    "plt.ylabel(\"Free energy\")\n",
    "plt.show()"
   ]
  },
  {
   "cell_type": "code",
   "execution_count": 269,
   "id": "2c028219-d109-429f-a8be-65b458245b05",
   "metadata": {},
   "outputs": [
    {
     "data": {
      "image/png": "[encoded data removed]",
      "text/plain": [
       "<Figure size 640x480 with 1 Axes>"
      ]
     },
     "metadata": {},
     "output_type": "display_data"
    }
   ],
   "source": [
    "plt.plot(temperatures, heat_capacities)\n",
    "plt.xlabel(\"Temperature (K)\")\n",
    "plt.ylabel(\"Heat capacity\")\n",
    "plt.show()"
   ]
  },
  {
   "cell_type": "code",
   "execution_count": null,
   "id": "46c580e1-353a-492a-b7a4-76d2677fcc16",
   "metadata": {},
   "outputs": [],
   "source": []
  }
 ],
 "metadata": {
  "kernelspec": {
   "display_name": "Python 3 [qBraid]",
   "language": "python",
   "name": "python3_qbraid_sdk_9j9sjy"
  },
  "language_info": {
   "codemirror_mode": {
    "name": "ipython",
    "version": 3
   },
   "file_extension": ".py",
   "mimetype": "text/x-python",
   "name": "python",
   "nbconvert_exporter": "python",
   "pygments_lexer": "ipython3",
   "version": "3.11.9"
  }
 },
 "nbformat": 4,
 "nbformat_minor": 5
}
