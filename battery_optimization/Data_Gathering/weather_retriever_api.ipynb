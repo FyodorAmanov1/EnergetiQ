{
 "cells": [
  {
   "cell_type": "code",
   "execution_count": 44,
   "id": "10d8d28d",
   "metadata": {},
   "outputs": [],
   "source": [
    "import pandas as pd\n",
    "import itertools"
   ]
  },
  {
   "cell_type": "code",
   "execution_count": 45,
   "id": "b463f8b9",
   "metadata": {},
   "outputs": [],
   "source": [
    "df=pd.read_csv(\"../../Dataset/abu_dhabi.csv\")"
   ]
  },
  {
   "cell_type": "code",
   "execution_count": 46,
   "id": "d90a85a9",
   "metadata": {},
   "outputs": [
    {
     "name": "stdout",
     "output_type": "stream",
     "text": [
      "Unique first 3-digit groups: ['2462' '2461' '2460' '2459' '2458' '2457' '2456' '2455' '2454' '2453'\n",
      " '2452' '2451' '2450' '2449' '2448' '2447' '2446' '2445' '2444' '2443'\n",
      " '2442' '2441' '2440' '2439' '2438' '2437' '2436' '2435' '2434' '2433'\n",
      " '2432' '2431' '2430' '2429' '2428' '2427' '2426' '2425' '2424' '2423'\n",
      " '2422' '2421' '2420' '2419']\n",
      "Number of unique groups: 44\n"
     ]
    }
   ],
   "source": [
    "df['lat_first3'] = df['lat'].apply(lambda x: str(x).replace('.', '')[:4])\n",
    "\n",
    "# Find unique first 3-digit groups\n",
    "unique_lat = df['lat_first3'].unique()\n",
    "count_unique_first3 = len(unique_lat)\n",
    "\n",
    "print(\"Unique first 3-digit groups:\", unique_lat)\n",
    "print(\"Number of unique groups:\", count_unique_first3)"
   ]
  },
  {
   "cell_type": "code",
   "execution_count": 47,
   "id": "846b8e05",
   "metadata": {},
   "outputs": [
    {
     "name": "stdout",
     "output_type": "stream",
     "text": [
      "Unique first 3-digit groups: ['5470' '5466' '5469' '5459' '5458' '5468' '5463' '5467' '5464' '5444'\n",
      " '5445' '5465' '5462' '5443' '5450' '5442' '5438' '5439' '5440' '5447'\n",
      " '5436' '5437' '5441' '5449' '5435' '5452' '5460' '5461' '5446' '5456'\n",
      " '5451' '5434' '5432' '5433' '5431' '5448' '5429' '5430' '5455' '5453'\n",
      " '5457' '5454' '5425' '5424']\n",
      "Number of unique groups: 44\n"
     ]
    }
   ],
   "source": [
    "df['lng_first3'] = df['lng'].apply(lambda x: str(x).replace('.', '')[:4])\n",
    "\n",
    "# Find unique first 3-digit groups\n",
    "unique_lng = df['lng_first3'].unique()\n",
    "count_unique_first3 = len(unique_lng)\n",
    "\n",
    "print(\"Unique first 3-digit groups:\", unique_lng)\n",
    "print(\"Number of unique groups:\", count_unique_first3)"
   ]
  },
  {
   "cell_type": "code",
   "execution_count": 48,
   "id": "f883ebc8",
   "metadata": {},
   "outputs": [
    {
     "name": "stdout",
     "output_type": "stream",
     "text": [
      "       lat   lng\n",
      "0     2462  5470\n",
      "1     2462  5466\n",
      "2     2462  5469\n",
      "3     2462  5459\n",
      "4     2462  5458\n",
      "...    ...   ...\n",
      "1931  2419  5453\n",
      "1932  2419  5457\n",
      "1933  2419  5454\n",
      "1934  2419  5425\n",
      "1935  2419  5424\n",
      "\n",
      "[1936 rows x 2 columns]\n"
     ]
    }
   ],
   "source": [
    "final_points = list(itertools.product(unique_lat, unique_lng))\n",
    "\n",
    "# Turn into a DataFrame\n",
    "df_final_points = pd.DataFrame(final_points, columns=['lat', 'lng'])\n",
    "\n",
    "print(df_final_points)"
   ]
  },
  {
   "cell_type": "code",
   "execution_count": 49,
   "id": "baeb9843",
   "metadata": {},
   "outputs": [
    {
     "name": "stdout",
     "output_type": "stream",
     "text": [
      "        lat    lng\n",
      "0     24.62  54.70\n",
      "1     24.62  54.66\n",
      "2     24.62  54.69\n",
      "3     24.62  54.59\n",
      "4     24.62  54.58\n",
      "...     ...    ...\n",
      "1931  24.19  54.53\n",
      "1932  24.19  54.57\n",
      "1933  24.19  54.54\n",
      "1934  24.19  54.25\n",
      "1935  24.19  54.24\n",
      "\n",
      "[1936 rows x 2 columns]\n"
     ]
    }
   ],
   "source": [
    "# Function to insert a '.' after first two digits\n",
    "def insert_dot(x):\n",
    "    x_str = str(int(x))  # ensure it's string and integer\n",
    "    return float(x_str[:2] + '.' + x_str[2:])\n",
    "\n",
    "# Apply to both columns\n",
    "df_final_points['lat'] = df_final_points['lat'].apply(insert_dot)\n",
    "df_final_points['lng'] = df_final_points['lng'].apply(insert_dot)\n",
    "\n",
    "print(df_final_points)"
   ]
  },
  {
   "cell_type": "markdown",
   "id": "32032679",
   "metadata": {},
   "source": [
    "# API Calls"
   ]
  },
  {
   "cell_type": "code",
   "execution_count": 50,
   "id": "b1d7df63",
   "metadata": {},
   "outputs": [],
   "source": [
    "import openmeteo_requests\n",
    "\n",
    "import requests_cache\n",
    "import pandas as pd\n",
    "from retry_requests import retry\n",
    "\n",
    "# Setup the Open-Meteo API client with cache and retry on error\n",
    "cache_session = requests_cache.CachedSession('.cache', expire_after = -1)\n",
    "retry_session = retry(cache_session, retries = 5, backoff_factor = 0.2)\n",
    "openmeteo = openmeteo_requests.Client(session = retry_session)"
   ]
  },
  {
   "cell_type": "code",
   "execution_count": 51,
   "id": "936a41d0",
   "metadata": {},
   "outputs": [
    {
     "name": "stdout",
     "output_type": "stream",
     "text": [
      "100\n",
      "200\n",
      "300\n",
      "400\n",
      "500\n",
      "600\n",
      "700\n",
      "800\n",
      "900\n",
      "1000\n",
      "1100\n",
      "1200\n",
      "1300\n",
      "1400\n",
      "1500\n",
      "1600\n",
      "1700\n",
      "1800\n",
      "1900\n",
      "        lat    lng  avg_temp_18\n",
      "0     24.62  54.66    26.030836\n",
      "1     24.62  54.69    25.683830\n",
      "2     24.62  54.59    26.037336\n",
      "3     24.62  54.58    26.043837\n",
      "4     24.62  54.68    26.011335\n",
      "...     ...    ...          ...\n",
      "1930  24.19  54.53    27.350668\n",
      "1931  24.19  54.57    27.370167\n",
      "1932  24.19  54.54    27.402668\n",
      "1933  24.19  54.25    26.604000\n",
      "1934  24.19  54.24    26.604000\n",
      "\n",
      "[1935 rows x 3 columns]\n"
     ]
    }
   ],
   "source": [
    "import pandas as pd\n",
    "\n",
    "# Prepare\n",
    "url = \"https://archive-api.open-meteo.com/v1/archive\"\n",
    "final_rows = []\n",
    "\n",
    "# Loop through points\n",
    "for idx, row in df_final_points.iloc[1:].iterrows():\n",
    "    if idx%100==0:\n",
    "        print(idx)\n",
    "    lat = row['lat']\n",
    "    lng = row['lng']\n",
    "\n",
    "    # Prepare params for API call\n",
    "    params = {\n",
    "        \"latitude\": [lat],\n",
    "        \"longitude\": [lng],\n",
    "        \"start_date\": \"2025-04-10\",\n",
    "        \"end_date\": \"2025-04-24\",\n",
    "        \"hourly\": \"temperature_2m\"\n",
    "    }\n",
    "\n",
    "    try:\n",
    "        # Fetch data\n",
    "        response = openmeteo.weather_api(url, params=params)[0]\n",
    "\n",
    "        # Build hourly dataframe\n",
    "        hourly = response.Hourly()\n",
    "        dates = pd.date_range(\n",
    "            start = pd.to_datetime(hourly.Time(), unit=\"s\", utc=True),\n",
    "            end = pd.to_datetime(hourly.TimeEnd(), unit=\"s\", utc=True),\n",
    "            freq = pd.Timedelta(seconds=hourly.Interval()),\n",
    "            inclusive = \"left\"\n",
    "        )\n",
    "        hourly_dataframe = pd.DataFrame({\n",
    "            \"date\": dates,\n",
    "            \"temperature_2m\": hourly.Variables(0).ValuesAsNumpy()\n",
    "        })\n",
    "\n",
    "        # Filter and compute average at 18:00\n",
    "        average_temperature_18 = hourly_dataframe.loc[\n",
    "            hourly_dataframe['date'].dt.hour == 18, 'temperature_2m'\n",
    "        ].mean()\n",
    "\n",
    "        # Save the results into list\n",
    "        final_rows.append({\n",
    "            \"lat\": lat,\n",
    "            \"lng\": lng,\n",
    "            \"avg_temp_18\": average_temperature_18\n",
    "        })\n",
    "\n",
    "    except Exception as e:\n",
    "        print(f\"Error processing point ({lat}, {lng}): {e}\")\n",
    "        continue\n",
    "\n",
    "# Create final DataFrame\n",
    "final_df = pd.DataFrame(final_rows)\n",
    "\n",
    "print(final_df)"
   ]
  },
  {
   "cell_type": "code",
   "execution_count": 52,
   "id": "72a755f2",
   "metadata": {},
   "outputs": [],
   "source": [
    "final_df.to_csv('weather_abu_dhabi.csv')"
   ]
  },
  {
   "cell_type": "code",
   "execution_count": null,
   "id": "ade932c3",
   "metadata": {},
   "outputs": [],
   "source": []
  }
 ],
 "metadata": {
  "kernelspec": {
   "display_name": "nyuad_hackathon",
   "language": "python",
   "name": "python3"
  },
  "language_info": {
   "codemirror_mode": {
    "name": "ipython",
    "version": 3
   },
   "file_extension": ".py",
   "mimetype": "text/x-python",
   "name": "python",
   "nbconvert_exporter": "python",
   "pygments_lexer": "ipython3",
   "version": "3.11.11"
  }
 },
 "nbformat": 4,
 "nbformat_minor": 5
}
